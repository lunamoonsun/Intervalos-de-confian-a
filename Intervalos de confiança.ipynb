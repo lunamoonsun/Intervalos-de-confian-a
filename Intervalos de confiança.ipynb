{
 "cells": [
  {
   "cell_type": "markdown",
   "id": "438a1837",
   "metadata": {},
   "source": [
    "# Intervalos de confiança "
   ]
  },
  {
   "cell_type": "code",
   "execution_count": 1,
   "id": "2704fbdc",
   "metadata": {},
   "outputs": [],
   "source": [
    "import numpy as np\n",
    "from scipy.stats import norm\n",
    "from scipy import stats\n",
    "import seaborn as sns\n",
    "import math"
   ]
  },
  {
   "cell_type": "code",
   "execution_count": 2,
   "id": "8d6a6d45",
   "metadata": {},
   "outputs": [],
   "source": [
    "dados = np.array([126. , 129.5, 133. , 133. , 136.5, 136.5, 140. , 140. , 140. ,\n",
    "                  140. , 143.5, 143.5, 143.5, 143.5, 143.5, 143.5, 147. , 147. ,\n",
    "                  147. , 147. , 147. , 147. , 147. , 150.5, 150.5, 150.5, 150.5,\n",
    "                  150.5, 150.5, 150.5, 150.5, 154. , 154. , 154. , 154. , 154. ,\n",
    "                  154. , 154. , 154. , 154. , 157.5, 157.5, 157.5, 157.5, 157.5,\n",
    "                  157.5, 157.5, 157.5, 157.5, 157.5, 161. , 161. , 161. , 161. ,\n",
    "                  161. , 161. , 161. , 161. , 161. , 161. , 164.5, 164.5, 164.5,\n",
    "                  164.5, 164.5, 164.5, 164.5, 164.5, 164.5, 168. , 168. , 168. ,\n",
    "                  168. , 168. , 168. , 168. , 168. , 171.5, 171.5, 171.5, 171.5,\n",
    "                  171.5, 171.5, 171.5, 175. , 175. , 175. , 175. , 175. , 175. ,\n",
    "                  178.5, 178.5, 178.5, 178.5, 182. , 182. , 185.5, 185.5, 189., 192.5])"
   ]
  },
  {
   "cell_type": "code",
   "execution_count": 3,
   "id": "85a2bf89",
   "metadata": {},
   "outputs": [],
   "source": [
    "N = len(dados)\n",
    "media = np.mean(dados)\n",
    "std = np.std(dados)"
   ]
  },
  {
   "cell_type": "code",
   "execution_count": 4,
   "id": "c0622488",
   "metadata": {},
   "outputs": [],
   "source": [
    "alpha = (1 - 0.95)/2"
   ]
  },
  {
   "cell_type": "code",
   "execution_count": 6,
   "id": "2bd38737",
   "metadata": {},
   "outputs": [
    {
     "data": {
      "text/plain": [
       "0.975"
      ]
     },
     "execution_count": 6,
     "metadata": {},
     "output_type": "execute_result"
    }
   ],
   "source": [
    "1 - alpha # Esse valor vamos buscar na tabela z-score e colocar na fórmula depois"
   ]
  },
  {
   "cell_type": "markdown",
   "id": "2754e7c4",
   "metadata": {},
   "source": [
    "O valor na tabela fica 1.95"
   ]
  },
  {
   "cell_type": "code",
   "execution_count": 7,
   "id": "71271fe8",
   "metadata": {},
   "outputs": [
    {
     "data": {
      "text/plain": [
       "1.959963984540054"
      ]
     },
     "execution_count": 7,
     "metadata": {},
     "output_type": "execute_result"
    }
   ],
   "source": [
    "# usando o scipy sem precisar consultar a tabela\n",
    "z = norm.ppf(1-alpha)\n",
    "z"
   ]
  },
  {
   "cell_type": "code",
   "execution_count": 9,
   "id": "201ac5c5",
   "metadata": {},
   "outputs": [],
   "source": [
    "x_inferior = media - z * (std/math.sqrt(N))\n",
    "x_superior = media + z * (std/math.sqrt(N))"
   ]
  },
  {
   "cell_type": "code",
   "execution_count": 10,
   "id": "8b89f51e",
   "metadata": {},
   "outputs": [
    {
     "data": {
      "text/plain": [
       "(156.57464916110283, 159.25, 161.92535083889717)"
      ]
     },
     "execution_count": 10,
     "metadata": {},
     "output_type": "execute_result"
    }
   ],
   "source": [
    "x_inferior, media, x_superior"
   ]
  },
  {
   "cell_type": "code",
   "execution_count": 12,
   "id": "d88feccc",
   "metadata": {},
   "outputs": [
    {
     "data": {
      "text/plain": [
       "2.675350838897174"
      ]
     },
     "execution_count": 12,
     "metadata": {},
     "output_type": "execute_result"
    }
   ],
   "source": [
    "# Calculo da margem de erro:\n",
    "\n",
    "margem_erro = abs(media-x_superior)\n",
    "margem_erro"
   ]
  },
  {
   "cell_type": "markdown",
   "id": "303dd910",
   "metadata": {},
   "source": [
    "Logo, podemos determinar que temo 95% de confiança de que a media das altura das pessoas está no intervalo: 156.57, 159.25, 161.92"
   ]
  },
  {
   "cell_type": "markdown",
   "id": "18a88327",
   "metadata": {},
   "source": [
    "# Utilizando o SCIPY"
   ]
  },
  {
   "cell_type": "code",
   "execution_count": 13,
   "id": "8e609d25",
   "metadata": {},
   "outputs": [],
   "source": [
    "stats.sem(dados) # é igual a isso std/math.sqrt(N)\n",
    "intervalos = norm.interval(0.95, media, stats.sem(dados))"
   ]
  },
  {
   "cell_type": "code",
   "execution_count": 14,
   "id": "fd157cf3",
   "metadata": {},
   "outputs": [
    {
     "data": {
      "text/plain": [
       "(156.5611712378229, 161.9388287621771)"
      ]
     },
     "execution_count": 14,
     "metadata": {},
     "output_type": "execute_result"
    }
   ],
   "source": [
    "intervalos"
   ]
  },
  {
   "cell_type": "code",
   "execution_count": 15,
   "id": "d9994fab",
   "metadata": {},
   "outputs": [
    {
     "data": {
      "text/plain": [
       "2.68882876217711"
      ]
     },
     "execution_count": 15,
     "metadata": {},
     "output_type": "execute_result"
    }
   ],
   "source": [
    "margem_erro = media - intervalos[0]\n",
    "margem_erro"
   ]
  },
  {
   "cell_type": "markdown",
   "id": "02e300a0",
   "metadata": {},
   "source": [
    "# Diferentes níveis de confiança "
   ]
  },
  {
   "cell_type": "code",
   "execution_count": 17,
   "id": "29f05cb3",
   "metadata": {},
   "outputs": [
    {
     "data": {
      "text/plain": [
       "(155.71628000694295, 162.78371999305705)"
      ]
     },
     "execution_count": 17,
     "metadata": {},
     "output_type": "execute_result"
    }
   ],
   "source": [
    "intervalos = norm.interval(0.99, media, stats.sem(dados))\n",
    "intervalos"
   ]
  },
  {
   "cell_type": "markdown",
   "id": "668202d3",
   "metadata": {},
   "source": [
    "Quando maior a cofiança maior será a diferença entre os intervalos."
   ]
  },
  {
   "cell_type": "code",
   "execution_count": 18,
   "id": "19b9edf3",
   "metadata": {},
   "outputs": [
    {
     "data": {
      "text/plain": [
       "3.5337199930570478"
      ]
     },
     "execution_count": 18,
     "metadata": {},
     "output_type": "execute_result"
    }
   ],
   "source": [
    "margem_erro = media - intervalos[0]\n",
    "margem_erro"
   ]
  },
  {
   "cell_type": "markdown",
   "id": "a1de3706",
   "metadata": {},
   "source": [
    "Margem de erro maior. "
   ]
  },
  {
   "cell_type": "code",
   "execution_count": 19,
   "id": "66930d93",
   "metadata": {},
   "outputs": [
    {
     "data": {
      "text/plain": [
       "(157.49186937268743, 161.00813062731257)"
      ]
     },
     "execution_count": 19,
     "metadata": {},
     "output_type": "execute_result"
    }
   ],
   "source": [
    "intervalos = norm.interval(0.8, media, stats.sem(dados))\n",
    "intervalos"
   ]
  },
  {
   "cell_type": "code",
   "execution_count": 20,
   "id": "32237b0b",
   "metadata": {},
   "outputs": [
    {
     "data": {
      "text/plain": [
       "1.7581306273125676"
      ]
     },
     "execution_count": 20,
     "metadata": {},
     "output_type": "execute_result"
    }
   ],
   "source": [
    "margem_erro = media - intervalos[0]\n",
    "margem_erro"
   ]
  },
  {
   "cell_type": "markdown",
   "id": "029b16c8",
   "metadata": {},
   "source": [
    "Isso quer dizer que a margem de erro é menor, pois chega mais próximo do valor da média da amostra, entretanto, não retrata bem, pois as chances de algum dado cair fora desse escopo é possível"
   ]
  },
  {
   "cell_type": "code",
   "execution_count": null,
   "id": "563d8e41",
   "metadata": {},
   "outputs": [],
   "source": []
  }
 ],
 "metadata": {
  "kernelspec": {
   "display_name": "Python 3",
   "language": "python",
   "name": "python3"
  },
  "language_info": {
   "codemirror_mode": {
    "name": "ipython",
    "version": 3
   },
   "file_extension": ".py",
   "mimetype": "text/x-python",
   "name": "python",
   "nbconvert_exporter": "python",
   "pygments_lexer": "ipython3",
   "version": "3.8.8"
  }
 },
 "nbformat": 4,
 "nbformat_minor": 5
}
